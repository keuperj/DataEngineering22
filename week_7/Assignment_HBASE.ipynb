{
  "cells": [
    {
      "cell_type": "markdown",
      "metadata": {
        "id": "W9P6Eg94IV50"
      },
      "source": [
        "# HBASE\n",
        "We use the *HappyBase* lib: https://happybase.readthedocs.io/en/latest/installation.html"
      ]
    },
    {
      "cell_type": "code",
      "execution_count": 2,
      "metadata": {
        "id": "aT5JaI29IV58",
        "outputId": "79a3e931-5a64-4bfc-f1a3-183ab2019a1f",
        "colab": {
          "base_uri": "https://localhost:8080/"
        }
      },
      "outputs": [
        {
          "output_type": "stream",
          "name": "stdout",
          "text": [
            "Collecting happybase\n",
            "  Downloading happybase-1.2.0.tar.gz (40 kB)\n",
            "\u001b[K     |████████████████████████████████| 40 kB 4.9 MB/s \n",
            "\u001b[?25hRequirement already satisfied: six in /usr/local/lib/python3.7/dist-packages (from happybase) (1.15.0)\n",
            "Collecting thriftpy2>=0.4\n",
            "  Downloading thriftpy2-0.4.14.tar.gz (361 kB)\n",
            "\u001b[K     |████████████████████████████████| 361 kB 36.1 MB/s \n",
            "\u001b[?25hCollecting ply<4.0,>=3.4\n",
            "  Downloading ply-3.11-py2.py3-none-any.whl (49 kB)\n",
            "\u001b[K     |████████████████████████████████| 49 kB 5.3 MB/s \n",
            "\u001b[?25hBuilding wheels for collected packages: happybase, thriftpy2\n",
            "  Building wheel for happybase (setup.py) ... \u001b[?25l\u001b[?25hdone\n",
            "  Created wheel for happybase: filename=happybase-1.2.0-py2.py3-none-any.whl size=26623 sha256=73d487d40ad427b88f9967336b507cb92cb01e7714f39101a01598d27a6e48cc\n",
            "  Stored in directory: /root/.cache/pip/wheels/66/63/48/437f79a3724a4a529830f87d766a7d34228d623e845de2c321\n",
            "  Building wheel for thriftpy2 (setup.py) ... \u001b[?25l\u001b[?25hdone\n",
            "  Created wheel for thriftpy2: filename=thriftpy2-0.4.14-cp37-cp37m-linux_x86_64.whl size=944449 sha256=bdcf2bfbbada6dc74c940047c3e024493c95d89ec08025dc68376dfb4d959b86\n",
            "  Stored in directory: /root/.cache/pip/wheels/2a/f5/49/9c0d851aa64b58db72883cf9393cc824d536bdf13f5c83cff4\n",
            "Successfully built happybase thriftpy2\n",
            "Installing collected packages: ply, thriftpy2, happybase\n",
            "Successfully installed happybase-1.2.0 ply-3.11 thriftpy2-0.4.14\n"
          ]
        }
      ],
      "source": [
        "! pip install happybase"
      ]
    },
    {
      "cell_type": "code",
      "execution_count": 3,
      "metadata": {
        "id": "ozEXPj6JIV6A"
      },
      "outputs": [],
      "source": [
        "# imports\n",
        "import happybase\n",
        "\n"
      ]
    },
    {
      "cell_type": "code",
      "execution_count": null,
      "metadata": {
        "id": "8tTCd6QyIV6B"
      },
      "outputs": [],
      "source": [
        "# try to connect\n",
        "server=\"ec2-3-250-8-167.eu-west-1.compute.amazonaws.com\" #need to change this for every lab-session\n",
        "connection = happybase.Connection(server)"
      ]
    },
    {
      "cell_type": "code",
      "execution_count": null,
      "metadata": {
        "id": "Evx_ZUXPIV6C",
        "outputId": "39f8710e-1d48-4ded-f6c7-174746cc4184"
      },
      "outputs": [
        {
          "name": "stdout",
          "output_type": "stream",
          "text": [
            "[b'lab3', b'mytable']\n"
          ]
        }
      ],
      "source": [
        "print(connection.tables())"
      ]
    },
    {
      "cell_type": "code",
      "execution_count": null,
      "metadata": {
        "id": "PtyKqJgJIV6D"
      },
      "outputs": [],
      "source": [
        "#connect to a table\n",
        "table = connection.table('lab3')"
      ]
    },
    {
      "cell_type": "code",
      "execution_count": null,
      "metadata": {
        "id": "MZgfkFi3IV6E",
        "outputId": "4b6121d7-6bc9-42bc-82f3-243a3d0b3bf1"
      },
      "outputs": [
        {
          "data": {
            "text/plain": [
              "{b'family_1': {'name': b'family_1:',\n",
              "  'max_versions': 3,\n",
              "  'compression': b'NONE',\n",
              "  'in_memory': False,\n",
              "  'bloom_filter_type': b'NONE',\n",
              "  'bloom_filter_vector_size': 0,\n",
              "  'bloom_filter_nb_hashes': 0,\n",
              "  'block_cache_enabled': False,\n",
              "  'time_to_live': 2147483647},\n",
              " b'family_2': {'name': b'family_2:',\n",
              "  'max_versions': 3,\n",
              "  'compression': b'NONE',\n",
              "  'in_memory': False,\n",
              "  'bloom_filter_type': b'NONE',\n",
              "  'bloom_filter_vector_size': 0,\n",
              "  'bloom_filter_nb_hashes': 0,\n",
              "  'block_cache_enabled': False,\n",
              "  'time_to_live': 2147483647}}"
            ]
          },
          "execution_count": 5,
          "metadata": {},
          "output_type": "execute_result"
        }
      ],
      "source": [
        "#see column families\n",
        "table.families()"
      ]
    },
    {
      "cell_type": "code",
      "execution_count": null,
      "metadata": {
        "id": "q_eGUSdxIV6F"
      },
      "outputs": [],
      "source": [
        "#insert something\n",
        "table.put('row 6', {'family_1:col7': '17.33', 'family_1:col8': '344'})\n"
      ]
    },
    {
      "cell_type": "code",
      "execution_count": null,
      "metadata": {
        "id": "nlC3npCIIV6G"
      },
      "outputs": [],
      "source": [
        "#read table\n",
        "res=table.scan()"
      ]
    },
    {
      "cell_type": "code",
      "execution_count": null,
      "metadata": {
        "id": "fvZPdS6PIV6H",
        "outputId": "c803c677-4a8c-407a-d57f-3fba0c5b9879"
      },
      "outputs": [
        {
          "name": "stdout",
          "output_type": "stream",
          "text": [
            "b'row 1' {b'family_1:col1': b'5', b'family_1:col2': b'string'}\n",
            "b'row 2' {b'family_2:col1': b'5.564', b'family_2:col2': b'some text'}\n",
            "b'row 3' {b'family_2:col3': b'17.33', b'family_2:col4': b'5'}\n",
            "b'row 6' {b'family_1:col7': b'17.33', b'family_1:col8': b'344'}\n"
          ]
        }
      ],
      "source": [
        "for key,row in res:\n",
        "    print(key,row)"
      ]
    },
    {
      "cell_type": "markdown",
      "metadata": {
        "id": "LPj3cY8bIV6J"
      },
      "source": [
        "# Ex 1\n",
        "Employee data in HBASE.\n",
        "* create a new table to hold the employee data -> use a distinct name, like ``user_id_employees``\n",
        "* How would you create the column families?\n",
        "* read data from ``employees.csv`` and put it into the table\n",
        "* use batch-processing to enter more than one entry per transaction\n",
        "* alter some entries of the table with ``timestamps``\n",
        "* perform some sample scans for the latest entries"
      ]
    },
    {
      "cell_type": "code",
      "execution_count": null,
      "metadata": {
        "id": "lpQMIdWDIV6K"
      },
      "outputs": [],
      "source": [
        ""
      ]
    }
  ],
  "metadata": {
    "kernelspec": {
      "display_name": "Python 3",
      "language": "python",
      "name": "python3"
    },
    "language_info": {
      "codemirror_mode": {
        "name": "ipython",
        "version": 3
      },
      "file_extension": ".py",
      "mimetype": "text/x-python",
      "name": "python",
      "nbconvert_exporter": "python",
      "pygments_lexer": "ipython3",
      "version": "3.7.6"
    },
    "colab": {
      "name": "Assignment_HBASE.ipynb",
      "provenance": []
    }
  },
  "nbformat": 4,
  "nbformat_minor": 0
}