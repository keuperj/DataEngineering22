{
  "cells": [
    {
      "cell_type": "markdown",
      "metadata": {
        "id": "W9P6Eg94IV50"
      },
      "source": [
        "# HBASE\n",
        "We use the *HappyBase* lib: https://happybase.readthedocs.io/en/latest/installation.html"
      ]
    },
    {
      "cell_type": "code",
      "execution_count": 11,
      "metadata": {
        "id": "aT5JaI29IV58",
        "outputId": "0a2ab11b-d99d-4a88-da06-6614eda636e7",
        "colab": {
          "base_uri": "https://localhost:8080/"
        }
      },
      "outputs": [
        {
          "output_type": "stream",
          "name": "stdout",
          "text": [
            "Requirement already satisfied: happybase in /usr/local/lib/python3.7/dist-packages (1.2.0)\n",
            "Requirement already satisfied: six in /usr/local/lib/python3.7/dist-packages (from happybase) (1.15.0)\n",
            "Requirement already satisfied: thriftpy2>=0.4 in /usr/local/lib/python3.7/dist-packages (from happybase) (0.4.14)\n",
            "Requirement already satisfied: ply<4.0,>=3.4 in /usr/local/lib/python3.7/dist-packages (from thriftpy2>=0.4->happybase) (3.11)\n"
          ]
        }
      ],
      "source": [
        "! pip install happybase"
      ]
    },
    {
      "cell_type": "code",
      "execution_count": 12,
      "metadata": {
        "id": "ozEXPj6JIV6A"
      },
      "outputs": [],
      "source": [
        "# imports\n",
        "import happybase\n",
        "\n"
      ]
    },
    {
      "cell_type": "code",
      "execution_count": 14,
      "metadata": {
        "id": "8tTCd6QyIV6B"
      },
      "outputs": [],
      "source": [
        "# try to connect\n",
        "server=\"ec2-54-155-223-96.eu-west-1.compute.amazonaws.com\" #need to change this for every lab-session\n",
        "connection = happybase.Connection(server)"
      ]
    },
    {
      "cell_type": "code",
      "execution_count": 15,
      "metadata": {
        "id": "Evx_ZUXPIV6C",
        "outputId": "0b2d796d-71cd-466b-8767-710e274d7495",
        "colab": {
          "base_uri": "https://localhost:8080/"
        }
      },
      "outputs": [
        {
          "output_type": "stream",
          "name": "stdout",
          "text": [
            "[b'mytable']\n"
          ]
        }
      ],
      "source": [
        "print(connection.tables())"
      ]
    },
    {
      "cell_type": "code",
      "execution_count": null,
      "metadata": {
        "id": "PtyKqJgJIV6D"
      },
      "outputs": [],
      "source": [
        "#connect to a table\n",
        "table = connection.table('lab3')"
      ]
    },
    {
      "cell_type": "code",
      "execution_count": null,
      "metadata": {
        "id": "MZgfkFi3IV6E",
        "outputId": "4b6121d7-6bc9-42bc-82f3-243a3d0b3bf1"
      },
      "outputs": [
        {
          "data": {
            "text/plain": [
              "{b'family_1': {'name': b'family_1:',\n",
              "  'max_versions': 3,\n",
              "  'compression': b'NONE',\n",
              "  'in_memory': False,\n",
              "  'bloom_filter_type': b'NONE',\n",
              "  'bloom_filter_vector_size': 0,\n",
              "  'bloom_filter_nb_hashes': 0,\n",
              "  'block_cache_enabled': False,\n",
              "  'time_to_live': 2147483647},\n",
              " b'family_2': {'name': b'family_2:',\n",
              "  'max_versions': 3,\n",
              "  'compression': b'NONE',\n",
              "  'in_memory': False,\n",
              "  'bloom_filter_type': b'NONE',\n",
              "  'bloom_filter_vector_size': 0,\n",
              "  'bloom_filter_nb_hashes': 0,\n",
              "  'block_cache_enabled': False,\n",
              "  'time_to_live': 2147483647}}"
            ]
          },
          "execution_count": 5,
          "metadata": {},
          "output_type": "execute_result"
        }
      ],
      "source": [
        "#see column families\n",
        "table.families()"
      ]
    },
    {
      "cell_type": "code",
      "execution_count": null,
      "metadata": {
        "id": "q_eGUSdxIV6F"
      },
      "outputs": [],
      "source": [
        "#insert something\n",
        "table.put('row 6', {'family_1:col7': '17.33', 'family_1:col8': '344'})\n"
      ]
    },
    {
      "cell_type": "code",
      "execution_count": null,
      "metadata": {
        "id": "nlC3npCIIV6G"
      },
      "outputs": [],
      "source": [
        "#read table\n",
        "res=table.scan()"
      ]
    },
    {
      "cell_type": "code",
      "execution_count": null,
      "metadata": {
        "id": "fvZPdS6PIV6H",
        "outputId": "c803c677-4a8c-407a-d57f-3fba0c5b9879"
      },
      "outputs": [
        {
          "name": "stdout",
          "output_type": "stream",
          "text": [
            "b'row 1' {b'family_1:col1': b'5', b'family_1:col2': b'string'}\n",
            "b'row 2' {b'family_2:col1': b'5.564', b'family_2:col2': b'some text'}\n",
            "b'row 3' {b'family_2:col3': b'17.33', b'family_2:col4': b'5'}\n",
            "b'row 6' {b'family_1:col7': b'17.33', b'family_1:col8': b'344'}\n"
          ]
        }
      ],
      "source": [
        "for key,row in res:\n",
        "    print(key,row)"
      ]
    },
    {
      "cell_type": "markdown",
      "metadata": {
        "id": "LPj3cY8bIV6J"
      },
      "source": [
        "# Ex 1\n",
        "Employee data in HBASE.\n",
        "* create a new table to hold the employee data -> use a distinct name, like ``user_id_employees``\n",
        "* How would you create the column families?\n",
        "* read data from ``employees.csv`` and put it into the table\n",
        "* use batch-processing to enter more than one entry per transaction\n",
        "* alter some entries of the table with ``timestamps``\n",
        "* perform some sample scans for the latest entries"
      ]
    },
    {
      "cell_type": "code",
      "execution_count": null,
      "metadata": {
        "id": "lpQMIdWDIV6K"
      },
      "outputs": [],
      "source": [
        ""
      ]
    }
  ],
  "metadata": {
    "kernelspec": {
      "display_name": "Python 3",
      "language": "python",
      "name": "python3"
    },
    "language_info": {
      "codemirror_mode": {
        "name": "ipython",
        "version": 3
      },
      "file_extension": ".py",
      "mimetype": "text/x-python",
      "name": "python",
      "nbconvert_exporter": "python",
      "pygments_lexer": "ipython3",
      "version": "3.7.6"
    },
    "colab": {
      "name": "Assignment_HBASE.ipynb",
      "provenance": []
    }
  },
  "nbformat": 4,
  "nbformat_minor": 0
}