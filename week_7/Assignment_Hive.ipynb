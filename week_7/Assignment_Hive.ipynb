{
  "cells": [
    {
      "cell_type": "markdown",
      "metadata": {
        "id": "MgHClVPfH01I"
      },
      "source": [
        "# Hive\n",
        "We use the *pyHive* lib: https://github.com/dropbox/PyHive \n",
        "\n",
        "## Resources\n",
        "* [HQL cheat sheet](http://hortonworks.com/wp-content/uploads/2016/05/Hortonworks.CheatSheet.SQLtoHive.pdf)\n",
        "* [Hive reference](https://cwiki.apache.org/confluence/display/Hive/LanguageManual)\n",
        "\n",
        "## Install\n",
        "Install *pyHive* via *anaconda*"
      ]
    },
    {
      "cell_type": "code",
      "execution_count": 4,
      "metadata": {
        "id": "HCaNBc_pH01S",
        "outputId": "5018b1d5-112a-4f7c-c846-341ded93b8e4",
        "colab": {
          "base_uri": "https://localhost:8080/"
        }
      },
      "outputs": [
        {
          "output_type": "stream",
          "name": "stdout",
          "text": [
            "Requirement already satisfied: pyhive in /usr/local/lib/python3.7/dist-packages (0.6.5)\n",
            "Collecting thrift\n",
            "  Downloading thrift-0.16.0.tar.gz (59 kB)\n",
            "\u001b[?25l\r\u001b[K     |█████▌                          | 10 kB 20.4 MB/s eta 0:00:01\r\u001b[K     |███████████                     | 20 kB 26.8 MB/s eta 0:00:01\r\u001b[K     |████████████████▌               | 30 kB 33.2 MB/s eta 0:00:01\r\u001b[K     |██████████████████████          | 40 kB 30.5 MB/s eta 0:00:01\r\u001b[K     |███████████████████████████▌    | 51 kB 33.7 MB/s eta 0:00:01\r\u001b[K     |████████████████████████████████| 59 kB 5.5 MB/s \n",
            "\u001b[?25hRequirement already satisfied: future in /usr/local/lib/python3.7/dist-packages (from pyhive) (0.16.0)\n",
            "Requirement already satisfied: python-dateutil in /usr/local/lib/python3.7/dist-packages (from pyhive) (2.8.2)\n",
            "Requirement already satisfied: six>=1.7.2 in /usr/local/lib/python3.7/dist-packages (from thrift) (1.15.0)\n",
            "Building wheels for collected packages: thrift\n",
            "  Building wheel for thrift (setup.py) ... \u001b[?25l\u001b[?25hdone\n",
            "  Created wheel for thrift: filename=thrift-0.16.0-cp37-cp37m-linux_x86_64.whl size=348307 sha256=74ef6420dc6ddc83100711c82f42b85f11e9ff916210366215805afddd83994b\n",
            "  Stored in directory: /root/.cache/pip/wheels/e6/d0/8c/11a1840ef59493f9221d13748a29482323f13f6da6b236c3de\n",
            "Successfully built thrift\n",
            "Installing collected packages: thrift\n",
            "Successfully installed thrift-0.16.0\n"
          ]
        }
      ],
      "source": [
        "! pip install pyhive thrift"
      ]
    },
    {
      "cell_type": "code",
      "execution_count": 5,
      "metadata": {
        "id": "AoBWUZAVH01U"
      },
      "outputs": [],
      "source": [
        "#import libs\n",
        "from pyhive import hive\n",
        "from TCLIService.ttypes import TOperationState"
      ]
    },
    {
      "cell_type": "code",
      "execution_count": null,
      "metadata": {
        "id": "Xei9sSNAH01V"
      },
      "outputs": [],
      "source": [
        "# try to connect\n",
        "server=\"ec2-63-34-10-95.eu-west-1.compute.amazonaws.com\"\n",
        "cursor = hive.connect(server).cursor()"
      ]
    },
    {
      "cell_type": "code",
      "execution_count": null,
      "metadata": {
        "id": "PBzVSTQEH01V"
      },
      "outputs": [],
      "source": [
        "#show our databases\n",
        "cursor.execute('show databases')"
      ]
    },
    {
      "cell_type": "code",
      "execution_count": null,
      "metadata": {
        "id": "oblfzvS6H01W",
        "outputId": "49a3c974-c94f-42c5-d5bc-2f6cea6e3d27"
      },
      "outputs": [
        {
          "data": {
            "text/plain": [
              "[('default',)]"
            ]
          },
          "execution_count": 30,
          "metadata": {},
          "output_type": "execute_result"
        }
      ],
      "source": [
        "#get data from execution\n",
        "cursor.fetchall()"
      ]
    },
    {
      "cell_type": "code",
      "execution_count": null,
      "metadata": {
        "id": "3HOpreHyH01Y"
      },
      "outputs": [],
      "source": [
        "#use default db\n",
        "cursor.execute('use default')"
      ]
    },
    {
      "cell_type": "code",
      "execution_count": null,
      "metadata": {
        "id": "sfP3VHwyH01a"
      },
      "outputs": [],
      "source": [
        "#show tables in db\n",
        "cursor.execute('show tables')"
      ]
    },
    {
      "cell_type": "code",
      "execution_count": null,
      "metadata": {
        "id": "Q93V1EWLH01b",
        "outputId": "92441fce-f034-4732-bcf1-e9379dd754f1"
      },
      "outputs": [
        {
          "data": {
            "text/plain": [
              "[('employee',), ('salary',)]"
            ]
          },
          "execution_count": 33,
          "metadata": {},
          "output_type": "execute_result"
        }
      ],
      "source": [
        "cursor.fetchall()"
      ]
    },
    {
      "cell_type": "code",
      "execution_count": null,
      "metadata": {
        "id": "AGw0RCptH01c",
        "outputId": "b7e4c88f-02f3-4b13-d027-3a56f8b6ed65"
      },
      "outputs": [
        {
          "data": {
            "text/plain": [
              "[('employee_id', 'int', ''),\n",
              " ('birthday', 'date', ''),\n",
              " ('first_name', 'string', ''),\n",
              " ('family_name', 'string', ''),\n",
              " ('gender', 'char(1)', ''),\n",
              " ('work_day', 'date', '')]"
            ]
          },
          "execution_count": 34,
          "metadata": {},
          "output_type": "execute_result"
        }
      ],
      "source": [
        "# get table layout\n",
        "cursor.execute('describe employee')\n",
        "cursor.fetchall()"
      ]
    },
    {
      "cell_type": "code",
      "execution_count": null,
      "metadata": {
        "id": "lVrk3FeAH01d"
      },
      "outputs": [],
      "source": [
        "#select data\n",
        "cursor.execute('select * from employee')"
      ]
    },
    {
      "cell_type": "code",
      "execution_count": null,
      "metadata": {
        "id": "FfrzcTSoH01e"
      },
      "outputs": [],
      "source": [
        "#get daata from selction\n",
        "employee = cursor.fetchall()"
      ]
    },
    {
      "cell_type": "code",
      "execution_count": null,
      "metadata": {
        "id": "9jmXC22-H01f",
        "outputId": "d1f9dfa8-0baf-48e5-c6c4-37f16a1a3e4c"
      },
      "outputs": [
        {
          "data": {
            "text/plain": [
              "[(10001, None, \"'Georgi'\", \"'Facello'\", \"'\", None),\n",
              " (10002, None, \"'Bezalel'\", \"'Simmel'\", \"'\", None),\n",
              " (10003, None, \"'Parto'\", \"'Bamford'\", \"'\", None),\n",
              " (10004, None, \"'Chirstian'\", \"'Koblick'\", \"'\", None),\n",
              " (10005, None, \"'Kyoichi'\", \"'Maliniak'\", \"'\", None),\n",
              " (10006, None, \"'Anneke'\", \"'Preusig'\", \"'\", None),\n",
              " (10007, None, \"'Tzvetan'\", \"'Zielinski'\", \"'\", None),\n",
              " (10008, None, \"'Saniya'\", \"'Kalloufi'\", \"'\", None),\n",
              " (10009, None, \"'Sumant'\", \"'Peac'\", \"'\", None),\n",
              " (10010, None, \"'Duangkaew'\", \"'Piveteau'\", \"'\", None)]"
            ]
          },
          "execution_count": 12,
          "metadata": {},
          "output_type": "execute_result"
        }
      ],
      "source": [
        "#have a look\n",
        "employee[:10]"
      ]
    },
    {
      "cell_type": "code",
      "execution_count": null,
      "metadata": {
        "id": "EDcDMjh3H01f",
        "outputId": "692f49d3-f5d9-4411-9f93-e9ba94fc8f33"
      },
      "outputs": [
        {
          "data": {
            "text/plain": [
              "[('employee_id', 'int', ''),\n",
              " ('salary', 'int', ''),\n",
              " ('start_date', 'date', ''),\n",
              " ('end_date', 'date', '')]"
            ]
          },
          "execution_count": 13,
          "metadata": {},
          "output_type": "execute_result"
        }
      ],
      "source": [
        "# get salary table layout\n",
        "cursor.execute('describe salary')\n",
        "cursor.fetchall()"
      ]
    },
    {
      "cell_type": "code",
      "execution_count": null,
      "metadata": {
        "id": "N3R5nE9ZH01g"
      },
      "outputs": [],
      "source": [
        "#select data\n",
        "cursor.execute('select * from salary')"
      ]
    },
    {
      "cell_type": "code",
      "execution_count": null,
      "metadata": {
        "id": "OX9pna1WH01h"
      },
      "outputs": [],
      "source": [
        "#get daata from selction\n",
        "salary = cursor.fetchall()"
      ]
    },
    {
      "cell_type": "code",
      "execution_count": null,
      "metadata": {
        "id": "sPyV2OsSH01h"
      },
      "outputs": [],
      "source": [
        "salary[:10]"
      ]
    },
    {
      "cell_type": "markdown",
      "metadata": {
        "id": "Cr0ty4gsH01i"
      },
      "source": [
        "## Ex 1\n",
        "Get employees sorted by ``family_name``. Return first 10 entries."
      ]
    },
    {
      "cell_type": "code",
      "execution_count": null,
      "metadata": {
        "id": "5plL57fKH01i"
      },
      "outputs": [],
      "source": [
        "cursor.execute(\" \")"
      ]
    },
    {
      "cell_type": "code",
      "execution_count": null,
      "metadata": {
        "id": "f5AbUIxfH01j"
      },
      "outputs": [],
      "source": [
        "cursor.fetchall()"
      ]
    },
    {
      "cell_type": "markdown",
      "metadata": {
        "id": "A5YKLzYnH01j"
      },
      "source": [
        "## Ex 2\n",
        "Get ``family_name`` and ``salary`` of employees sorted by salary. Return first 100 entries. Hint: you need to join both tables..."
      ]
    },
    {
      "cell_type": "code",
      "execution_count": null,
      "metadata": {
        "id": "sqGnrDiHH01k"
      },
      "outputs": [],
      "source": [
        "cursor.execute(\" \")\n",
        "data=cursor.fetchall()"
      ]
    },
    {
      "cell_type": "markdown",
      "metadata": {
        "id": "d67mWDujH01k"
      },
      "source": [
        "## Ex 3\n",
        "Get the average salary by gender. Hint: use Group by"
      ]
    },
    {
      "cell_type": "code",
      "execution_count": null,
      "metadata": {
        "id": "aYZjnau0H01l"
      },
      "outputs": [],
      "source": [
        "cursor.execute(\" \")\n",
        "cursor.fetchall()"
      ]
    },
    {
      "cell_type": "code",
      "execution_count": null,
      "metadata": {
        "id": "OYp78F7AH01l"
      },
      "outputs": [],
      "source": [
        ""
      ]
    }
  ],
  "metadata": {
    "kernelspec": {
      "display_name": "Python 3",
      "language": "python",
      "name": "python3"
    },
    "language_info": {
      "codemirror_mode": {
        "name": "ipython",
        "version": 3
      },
      "file_extension": ".py",
      "mimetype": "text/x-python",
      "name": "python",
      "nbconvert_exporter": "python",
      "pygments_lexer": "ipython3",
      "version": "3.7.6"
    },
    "colab": {
      "name": "Assignment_Hive.ipynb",
      "provenance": []
    }
  },
  "nbformat": 4,
  "nbformat_minor": 0
}