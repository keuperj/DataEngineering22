{
  "cells": [
    {
      "cell_type": "markdown",
      "metadata": {
        "id": "HrkEgR24PNgv"
      },
      "source": [
        "# Recalling Numpy Array Slicing and Indexing"
      ]
    },
    {
      "cell_type": "code",
      "execution_count": 1,
      "metadata": {
        "id": "NO82h4pZPNg2"
      },
      "outputs": [],
      "source": [
        "import numpy as np"
      ]
    },
    {
      "cell_type": "code",
      "execution_count": 59,
      "metadata": {
        "id": "tiD0jRCjPNg3"
      },
      "outputs": [],
      "source": [
        "#create array\n",
        "x = np.asarray(range(1,26), np.int8).reshape(5,5)"
      ]
    },
    {
      "cell_type": "code",
      "execution_count": 3,
      "metadata": {
        "id": "GNwx_468PNg4",
        "outputId": "9de65338-cf6b-4d2f-d4f9-df886a5ffeda",
        "colab": {
          "base_uri": "https://localhost:8080/"
        }
      },
      "outputs": [
        {
          "output_type": "execute_result",
          "data": {
            "text/plain": [
              "array([[ 1,  2,  3,  4,  5],\n",
              "       [ 6,  7,  8,  9, 10],\n",
              "       [11, 12, 13, 14, 15],\n",
              "       [16, 17, 18, 19, 20],\n",
              "       [21, 22, 23, 24, 25]], dtype=int8)"
            ]
          },
          "metadata": {},
          "execution_count": 3
        }
      ],
      "source": [
        "x"
      ]
    },
    {
      "cell_type": "markdown",
      "metadata": {
        "id": "a6thxkyWPNg6"
      },
      "source": [
        "## Slice first 3 elements\n",
        "\n",
        "<img src=\"https://github.com/xXAI-botXx/DataEngineering22/blob/main/week_1/IMG/np01.png?raw=1\">"
      ]
    },
    {
      "cell_type": "code",
      "execution_count": 10,
      "metadata": {
        "id": "A4yCCABkPNg6",
        "outputId": "a0e79524-6fbb-4312-b407-3766e8ae2031",
        "colab": {
          "base_uri": "https://localhost:8080/"
        }
      },
      "outputs": [
        {
          "output_type": "execute_result",
          "data": {
            "text/plain": [
              "array([1, 2, 3], dtype=int8)"
            ]
          },
          "metadata": {},
          "execution_count": 10
        }
      ],
      "source": [
        "x[0,0:3]\n"
      ]
    },
    {
      "cell_type": "markdown",
      "metadata": {
        "id": "47NWr9XiPNg7"
      },
      "source": [
        "##  Slice first 8 elements\n",
        "\n",
        "<img src=\"https://github.com/xXAI-botXx/DataEngineering22/blob/main/week_1/IMG/np02.png?raw=1\">"
      ]
    },
    {
      "cell_type": "code",
      "execution_count": 74,
      "metadata": {
        "id": "PBYYBMYsPNg8",
        "outputId": "d04e08ae-5f7c-4b39-bfec-b2a3123ac243",
        "colab": {
          "base_uri": "https://localhost:8080/"
        }
      },
      "outputs": [
        {
          "output_type": "execute_result",
          "data": {
            "text/plain": [
              "array([1, 2, 3, 4, 5, 6, 7, 8], dtype=int8)"
            ]
          },
          "metadata": {},
          "execution_count": 74
        }
      ],
      "source": [
        "x.reshape((1, -1))[0, 0:8]"
      ]
    },
    {
      "cell_type": "code",
      "source": [
        "x.flatten()[0:8]"
      ],
      "metadata": {
        "id": "IULAAOaPaSvr",
        "outputId": "ed2d9e99-54ae-4cba-bc5f-ec9b8d44c96e",
        "colab": {
          "base_uri": "https://localhost:8080/"
        }
      },
      "execution_count": 77,
      "outputs": [
        {
          "output_type": "execute_result",
          "data": {
            "text/plain": [
              "array([1, 2, 3, 4, 5, 6, 7, 8], dtype=int8)"
            ]
          },
          "metadata": {},
          "execution_count": 77
        }
      ]
    },
    {
      "cell_type": "markdown",
      "metadata": {
        "id": "OCKA3lpyPNg8"
      },
      "source": [
        "## Skip every other element\n",
        "\n",
        "<img src=\"https://github.com/xXAI-botXx/DataEngineering22/blob/main/week_1/IMG/np03.png?raw=1\">"
      ]
    },
    {
      "cell_type": "code",
      "execution_count": 21,
      "metadata": {
        "id": "D9QWsCJXPNg9",
        "outputId": "5bf4e57c-82d4-4828-95a5-3f28f8f7e3d6",
        "colab": {
          "base_uri": "https://localhost:8080/"
        }
      },
      "outputs": [
        {
          "output_type": "execute_result",
          "data": {
            "text/plain": [
              "array([1, 3, 5], dtype=int8)"
            ]
          },
          "metadata": {},
          "execution_count": 21
        }
      ],
      "source": [
        "x[0, ::2]"
      ]
    },
    {
      "cell_type": "markdown",
      "metadata": {
        "id": "mkspfiiDPNg9"
      },
      "source": [
        "## Slice first column\n",
        "\n",
        "<img src=\"https://github.com/xXAI-botXx/DataEngineering22/blob/main/week_1/IMG/np04.png?raw=1\">"
      ]
    },
    {
      "cell_type": "code",
      "execution_count": 22,
      "metadata": {
        "id": "Amp29lNuPNg-",
        "outputId": "305857a9-444c-4392-91bb-bfca89b77896",
        "colab": {
          "base_uri": "https://localhost:8080/"
        }
      },
      "outputs": [
        {
          "output_type": "execute_result",
          "data": {
            "text/plain": [
              "array([ 1,  6, 11, 16], dtype=int8)"
            ]
          },
          "metadata": {},
          "execution_count": 22
        }
      ],
      "source": [
        "x[0:4, 0]"
      ]
    },
    {
      "cell_type": "markdown",
      "metadata": {
        "id": "NRQzEfgJPNg-"
      },
      "source": [
        "## Slice a diagonal\n",
        "\n",
        "<img src=\"https://github.com/xXAI-botXx/DataEngineering22/blob/main/week_1/IMG/np05.png?raw=1\">"
      ]
    },
    {
      "cell_type": "code",
      "execution_count": 61,
      "metadata": {
        "id": "fkzOOhA7PNg_",
        "outputId": "7d37f415-4710-43e2-ab3f-7aea1bb02ed6",
        "colab": {
          "base_uri": "https://localhost:8080/"
        }
      },
      "outputs": [
        {
          "output_type": "execute_result",
          "data": {
            "text/plain": [
              "array([ 1,  7, 13, 19, 25], dtype=int8)"
            ]
          },
          "metadata": {},
          "execution_count": 61
        }
      ],
      "source": [
        "np.diagonal(x, 0)"
      ]
    },
    {
      "cell_type": "markdown",
      "metadata": {
        "id": "aclPMED9PNg_"
      },
      "source": [
        "## Repeat the first element\n",
        "\n",
        "<img src=\"https://github.com/xXAI-botXx/DataEngineering22/blob/main/week_1/IMG/np06.png?raw=1\">"
      ]
    },
    {
      "cell_type": "code",
      "execution_count": 29,
      "metadata": {
        "id": "lboUTAMYPNhA",
        "outputId": "12c802b4-ea0d-4bc2-828b-c81bb3e2009e",
        "colab": {
          "base_uri": "https://localhost:8080/"
        }
      },
      "outputs": [
        {
          "output_type": "execute_result",
          "data": {
            "text/plain": [
              "array([1, 1, 1, 1, 1], dtype=int8)"
            ]
          },
          "metadata": {},
          "execution_count": 29
        }
      ],
      "source": [
        "np.repeat(x[0, 0], x.shape[1])"
      ]
    },
    {
      "cell_type": "code",
      "source": [
        "np.tile(x[0, 0], (1,5))[0]"
      ],
      "metadata": {
        "id": "pAl14iuqa9ow",
        "outputId": "d9da828f-4a62-47b1-8fbd-b0f8fd5ee9fe",
        "colab": {
          "base_uri": "https://localhost:8080/"
        }
      },
      "execution_count": 80,
      "outputs": [
        {
          "output_type": "execute_result",
          "data": {
            "text/plain": [
              "array([1, 1, 1, 1, 1], dtype=int8)"
            ]
          },
          "metadata": {},
          "execution_count": 80
        }
      ]
    },
    {
      "cell_type": "code",
      "source": [
        "np.broadcast(x[0, 0], (1, 5)) # FIXME"
      ],
      "metadata": {
        "id": "DT-EtWXzbZBQ",
        "outputId": "b9534880-e46e-4f72-f1b7-c28c3205a504",
        "colab": {
          "base_uri": "https://localhost:8080/"
        }
      },
      "execution_count": 82,
      "outputs": [
        {
          "output_type": "execute_result",
          "data": {
            "text/plain": [
              "<numpy.broadcast at 0x563e7b3ed840>"
            ]
          },
          "metadata": {},
          "execution_count": 82
        }
      ]
    },
    {
      "cell_type": "markdown",
      "metadata": {
        "id": "tlrjiy2APNhA"
      },
      "source": [
        "## Simple 2D slicing\n",
        "\n",
        "<img src=\"https://github.com/xXAI-botXx/DataEngineering22/blob/main/week_1/IMG/np07.png?raw=1\">"
      ]
    },
    {
      "cell_type": "code",
      "execution_count": 30,
      "metadata": {
        "id": "ZpRozeqePNhB",
        "outputId": "0956894d-e055-41c4-ce99-dcf2e9dd9993",
        "colab": {
          "base_uri": "https://localhost:8080/"
        }
      },
      "outputs": [
        {
          "output_type": "execute_result",
          "data": {
            "text/plain": [
              "array([[ 1,  2,  3,  4],\n",
              "       [ 6,  7,  8,  9],\n",
              "       [11, 12, 13, 14]], dtype=int8)"
            ]
          },
          "metadata": {},
          "execution_count": 30
        }
      ],
      "source": [
        "x[0:3, 0:4]"
      ]
    },
    {
      "cell_type": "markdown",
      "metadata": {
        "id": "IcSNpiGvPNhB"
      },
      "source": [
        "## Slice a zigzag \n",
        "\n",
        "<img src=\"https://github.com/xXAI-botXx/DataEngineering22/blob/main/week_1/IMG/np08.png?raw=1\">"
      ]
    },
    {
      "cell_type": "code",
      "execution_count": 70,
      "metadata": {
        "id": "XZAwdBWsPNhC",
        "outputId": "0dee219d-f4bd-4f26-ed66-74fbe20910f7",
        "colab": {
          "base_uri": "https://localhost:8080/"
        }
      },
      "outputs": [
        {
          "output_type": "execute_result",
          "data": {
            "text/plain": [
              "array([[ 1,  7],\n",
              "       [13, 19],\n",
              "       [ 2,  8],\n",
              "       [14, 20]], dtype=int8)"
            ]
          },
          "metadata": {},
          "execution_count": 70
        }
      ],
      "source": [
        "np.append(np.diagonal(x, 0)[0:4], np.diagonal(x, 1)).reshape((-1, 2))\n",
        "# FIXME\n"
      ]
    },
    {
      "cell_type": "code",
      "source": [
        "np.append(x.flatten()[::6][0:-1], x.flatten()[1::6]).reshape((-1, 2))"
      ],
      "metadata": {
        "id": "2TmwjtVPb8Zg",
        "outputId": "1842be13-7e8b-4f73-c5de-8287a1c6ab37",
        "colab": {
          "base_uri": "https://localhost:8080/",
          "height": 131
        }
      },
      "execution_count": 96,
      "outputs": [
        {
          "output_type": "error",
          "ename": "SyntaxError",
          "evalue": "ignored",
          "traceback": [
            "\u001b[0;36m  File \u001b[0;32m\"<ipython-input-96-9d4594e2c64c>\"\u001b[0;36m, line \u001b[0;32m1\u001b[0m\n\u001b[0;31m    np.append(x.flatten()[::6][0:-1], x.flatten()[1::6]).reshape((-1, 2) order='C')\u001b[0m\n\u001b[0m                                                                             ^\u001b[0m\n\u001b[0;31mSyntaxError\u001b[0m\u001b[0;31m:\u001b[0m invalid syntax\n"
          ]
        }
      ]
    },
    {
      "cell_type": "markdown",
      "metadata": {
        "id": "ikCZokkpPNhC"
      },
      "source": [
        "## Sparse slicing\n",
        "\n",
        "<img src=\"https://github.com/xXAI-botXx/DataEngineering22/blob/main/week_1/IMG/np09.png?raw=1\">"
      ]
    },
    {
      "cell_type": "code",
      "execution_count": 37,
      "metadata": {
        "id": "ItZoZ4GNPNhD",
        "outputId": "cc986796-b889-4a6a-de5e-78d971242b06",
        "colab": {
          "base_uri": "https://localhost:8080/"
        }
      },
      "outputs": [
        {
          "output_type": "execute_result",
          "data": {
            "text/plain": [
              "array([[ 1,  3,  5],\n",
              "       [11, 13, 15],\n",
              "       [21, 23, 25]], dtype=int8)"
            ]
          },
          "metadata": {},
          "execution_count": 37
        }
      ],
      "source": [
        "x[0::2, 0::2]"
      ]
    },
    {
      "cell_type": "markdown",
      "metadata": {
        "id": "S-srZK6FPNhD"
      },
      "source": [
        "## Transpose a 2D array\n",
        "\n",
        "<img src=\"https://github.com/xXAI-botXx/DataEngineering22/blob/main/week_1/IMG/np10.png?raw=1\">"
      ]
    },
    {
      "cell_type": "code",
      "execution_count": 38,
      "metadata": {
        "id": "IN4KEhFIPNhE",
        "outputId": "cbf69a66-73a7-4f6d-fa04-df9df9841ca4",
        "colab": {
          "base_uri": "https://localhost:8080/"
        }
      },
      "outputs": [
        {
          "output_type": "execute_result",
          "data": {
            "text/plain": [
              "array([[ 1,  6, 11],\n",
              "       [ 2,  7, 12],\n",
              "       [ 3,  8, 13]], dtype=int8)"
            ]
          },
          "metadata": {},
          "execution_count": 38
        }
      ],
      "source": [
        "np.transpose(x[0:3, 0:3])"
      ]
    },
    {
      "cell_type": "markdown",
      "metadata": {
        "id": "pkdZpgumPNhE"
      },
      "source": [
        "## Repeat the first column 4 times\n",
        "\n",
        "\n",
        "<img src=\"https://github.com/xXAI-botXx/DataEngineering22/blob/main/week_1/IMG/np11.png?raw=1\">"
      ]
    },
    {
      "cell_type": "code",
      "execution_count": 40,
      "metadata": {
        "id": "Q6t4urlMPNhE",
        "outputId": "8409c5e5-98af-4418-a8cb-61fe3b13c859",
        "colab": {
          "base_uri": "https://localhost:8080/"
        }
      },
      "outputs": [
        {
          "output_type": "execute_result",
          "data": {
            "text/plain": [
              "array([[ 1,  1,  1,  1],\n",
              "       [ 6,  6,  6,  6],\n",
              "       [11, 11, 11, 11],\n",
              "       [16, 16, 16, 16],\n",
              "       [21, 21, 21, 21]], dtype=int8)"
            ]
          },
          "metadata": {},
          "execution_count": 40
        }
      ],
      "source": [
        "np.repeat(x[:,0], 4).reshape((5, -1))"
      ]
    },
    {
      "cell_type": "code",
      "source": [
        "np.transpose([x[:, 0]]*4)"
      ],
      "metadata": {
        "id": "DU__2BEMUm2p",
        "outputId": "fabf09e9-6e0e-499d-c765-891ffe148851",
        "colab": {
          "base_uri": "https://localhost:8080/"
        }
      },
      "execution_count": 42,
      "outputs": [
        {
          "output_type": "execute_result",
          "data": {
            "text/plain": [
              "array([[ 1,  1,  1,  1],\n",
              "       [ 6,  6,  6,  6],\n",
              "       [11, 11, 11, 11],\n",
              "       [16, 16, 16, 16],\n",
              "       [21, 21, 21, 21]], dtype=int8)"
            ]
          },
          "metadata": {},
          "execution_count": 42
        }
      ]
    },
    {
      "cell_type": "code",
      "source": [
        "# broadcast FIXME"
      ],
      "metadata": {
        "id": "-t8z9tefc2L2"
      },
      "execution_count": null,
      "outputs": []
    },
    {
      "cell_type": "markdown",
      "metadata": {
        "id": "znKb4Zg2PNhF"
      },
      "source": [
        "## Reshape 1D array to 2D array\n",
        "\n",
        "<img src=\"https://github.com/xXAI-botXx/DataEngineering22/blob/main/week_1/IMG/np12.png?raw=1\">"
      ]
    },
    {
      "cell_type": "code",
      "execution_count": 48,
      "metadata": {
        "id": "u-hube4cPNhF",
        "outputId": "7ba6e6bb-6929-47ec-a27a-1b23ad976015",
        "colab": {
          "base_uri": "https://localhost:8080/"
        }
      },
      "outputs": [
        {
          "output_type": "stream",
          "name": "stdout",
          "text": [
            "[ 1  2  3  4  5  6  7  8  9 10 11 12]\n"
          ]
        }
      ],
      "source": [
        "x = np.asarray(range(1,13), np.int64)\n",
        "print(x)\n"
      ]
    },
    {
      "cell_type": "code",
      "source": [
        "x.reshape(-1, 3)"
      ],
      "metadata": {
        "id": "-uOv2WnTVfha",
        "outputId": "efcfb717-e6f7-47ab-9f60-1130906f56a8",
        "colab": {
          "base_uri": "https://localhost:8080/"
        }
      },
      "execution_count": 49,
      "outputs": [
        {
          "output_type": "execute_result",
          "data": {
            "text/plain": [
              "array([[ 1,  2,  3],\n",
              "       [ 4,  5,  6],\n",
              "       [ 7,  8,  9],\n",
              "       [10, 11, 12]])"
            ]
          },
          "metadata": {},
          "execution_count": 49
        }
      ]
    },
    {
      "cell_type": "markdown",
      "metadata": {
        "id": "L4h2Q3zdPNhF"
      },
      "source": [
        "## Collapse an axis from a 3D array\n",
        "\n",
        "<img src=\"https://github.com/xXAI-botXx/DataEngineering22/blob/main/week_1/IMG/np13.png?raw=1\">"
      ]
    },
    {
      "cell_type": "code",
      "execution_count": 51,
      "metadata": {
        "id": "zzStIm-VPNhG",
        "outputId": "50fb0aee-3522-4aa7-c66b-ad50239060ae",
        "colab": {
          "base_uri": "https://localhost:8080/"
        }
      },
      "outputs": [
        {
          "output_type": "stream",
          "name": "stdout",
          "text": [
            "[[[ 1  2]\n",
            "  [ 3  4]]\n",
            "\n",
            " [[ 5  6]\n",
            "  [ 7  8]]\n",
            "\n",
            " [[ 9 10]\n",
            "  [11 12]]]\n"
          ]
        }
      ],
      "source": [
        "x = np.asarray(range(1,13), np.int8).reshape(3,2,2)\n",
        "print(x)"
      ]
    },
    {
      "cell_type": "code",
      "source": [
        "x.shape"
      ],
      "metadata": {
        "id": "pOPpJe0tWDzb",
        "outputId": "33e705a8-1990-4ba4-f44f-f1d8328fdda7",
        "colab": {
          "base_uri": "https://localhost:8080/"
        }
      },
      "execution_count": 54,
      "outputs": [
        {
          "output_type": "execute_result",
          "data": {
            "text/plain": [
              "(3, 2, 2)"
            ]
          },
          "metadata": {},
          "execution_count": 54
        }
      ]
    },
    {
      "cell_type": "code",
      "execution_count": 56,
      "metadata": {
        "id": "Dy0gFZlEPNhG",
        "outputId": "28ec4784-0dfe-41ed-dd13-d098deb6aa91",
        "colab": {
          "base_uri": "https://localhost:8080/"
        }
      },
      "outputs": [
        {
          "output_type": "execute_result",
          "data": {
            "text/plain": [
              "array([[ 1,  2,  3,  4],\n",
              "       [ 5,  6,  7,  8],\n",
              "       [ 9, 10, 11, 12]], dtype=int8)"
            ]
          },
          "metadata": {},
          "execution_count": 56
        }
      ],
      "source": [
        "x.reshape((3, -1))"
      ]
    }
  ],
  "metadata": {
    "kernelspec": {
      "display_name": "Python 3",
      "language": "python",
      "name": "python3"
    },
    "language_info": {
      "codemirror_mode": {
        "name": "ipython",
        "version": 3
      },
      "file_extension": ".py",
      "mimetype": "text/x-python",
      "name": "python",
      "nbconvert_exporter": "python",
      "pygments_lexer": "ipython3",
      "version": "3.7.6"
    },
    "colab": {
      "name": "lab_01_NumPy.ipynb",
      "provenance": []
    }
  },
  "nbformat": 4,
  "nbformat_minor": 0
}